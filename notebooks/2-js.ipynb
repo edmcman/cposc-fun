{
 "cells": [
  {
   "cell_type": "markdown",
   "metadata": {
    "slideshow": {
     "slide_type": "slide"
    }
   },
   "source": [
    "Many of the features we talked about in OCaml are available in Javascript."
   ]
  },
  {
   "cell_type": "code",
   "execution_count": 3,
   "metadata": {
    "slideshow": {
     "slide_type": "fragment"
    }
   },
   "outputs": [
    {
     "name": "stdout",
     "output_type": "stream",
     "text": [
      "[ 43, 44, 45 ]\n"
     ]
    }
   ],
   "source": [
    "[1,2,3].map (x => x + 42)"
   ]
  },
  {
   "cell_type": "markdown",
   "metadata": {
    "slideshow": {
     "slide_type": "fragment"
    }
   },
   "source": [
    "`x => x + 42` is how you write a lambda function in js."
   ]
  },
  {
   "cell_type": "code",
   "execution_count": 4,
   "metadata": {
    "slideshow": {
     "slide_type": "fragment"
    }
   },
   "outputs": [
    {
     "name": "stdout",
     "output_type": "stream",
     "text": [
      "[ 1, 2 ]\n"
     ]
    }
   ],
   "source": [
    "[-2,-1,0,1,2].filter (x => x > 0)"
   ]
  },
  {
   "cell_type": "markdown",
   "metadata": {
    "slideshow": {
     "slide_type": "fragment"
    }
   },
   "source": [
    "Folding is done via `reduce` in js."
   ]
  },
  {
   "cell_type": "code",
   "execution_count": 5,
   "metadata": {
    "slideshow": {
     "slide_type": "-"
    }
   },
   "outputs": [
    {
     "name": "stdout",
     "output_type": "stream",
     "text": [
      "10\n"
     ]
    }
   ],
   "source": [
    "[1,2,3,4].reduce ((accum, n) => accum + n)"
   ]
  },
  {
   "cell_type": "markdown",
   "metadata": {
    "slideshow": {
     "slide_type": "slide"
    }
   },
   "source": [
    "## A real example\n",
    "\n",
    "I was recently trying to use some information in a public API to figure out the interest rate available on a lease.  The information was available in JSON format.  Unfortunately, the actual interest rate was buried in a long list of incentives and special deals."
   ]
  },
  {
   "cell_type": "code",
   "execution_count": 1,
   "metadata": {},
   "outputs": [
    {
     "name": "stdout",
     "output_type": "stream",
     "text": [
      "{\n",
      "  \"107712\": {\n",
      "    \"incentiveId\": 107712,\n",
      "    \"name\": \"2021 Volvo S60 T5 Inscription Special Lease\",\n",
      "    \"description\": \"\",\n",
      "    \"lender\": \"Volvo Car Financial Services\",\n",
      "    \"condition\": null,\n",
      "    \"cash\": null,\n",
      "    \"standard\": true,\n",
      "    \"startDate\": \"11/3/20\",\n",
      "    \"endDate\": \"11/30/20\",\n",
      "    \"financeType\": \"lease\",\n",
      "    \"termRanges\": [\n",
      "      {\n",
      "        \"rate\": 0.792,\n",
      "        \"cash\": 0,\n",
      "        \"startTerm\": 24,\n",
      "        \"endTerm\": 24\n",
      "      },\n",
      "      {\n",
      "        \"rate\": 0.792,\n",
      "        \"cash\": 0,\n",
      "        \"startTerm\": 30,\n",
      "        \"endTerm\": 30\n",
      "      },\n",
      "      {\n",
      "        \"rate\": 0.792,\n",
      "        \"cash\": 0,\n",
      "        \"startTerm\": 36,\n",
      "        \"endTerm\": 36\n",
      "      },\n",
      "      {\n",
      "        \"rate\": 0.792,\n",
      "        \"cash\": 0,\n",
      "        \"startTerm\": 39,\n",
      "        \"endTerm\": 39\n",
      "      },\n",
      "      {\n",
      "        \"rate\": 4.152,\n",
      "        \"cash\": 0,\n",
      "        \"startTerm\": 48,\n",
      "        \"endTerm\": 48\n",
      "      }\n",
      "    ],\n",
      "    \"excludedIncentives\": [\n",
      "      107783,\n",
      "      108356\n",
      "    ],\n",
      "    \"restrictedToLender\": true\n",
      "  },\n",
      "  \"107773\": {\n",
      "    \"incentiveId\": 107773,\n",
      "    \"name\": \"2021 Volvo S60 Retail Bonus Dealer Cash\",\n",
      "    \"description\": \"Dealer Contribution cashback may not be available in all areas, to all consumers, or to all dealers.  Dealers who participate may not be able to contribute the entire cashback amount. Available on retail purchases only. Not available on lease deals. See dealer for details.\",\n",
      "    \"lender\": \"Volvo USA\",\n",
      "    \"condition\": null,\n",
      "    \"cash\": 1500,\n",
      "    \"standard\": true,\n",
      "    \"startDate\": \"11/3/20\",\n",
      "    \"endDate\": \"11/30/20\",\n",
      "    \"financeType\": \"loan\",\n",
      "    \"termRanges\": null,\n",
      "    \"excludedIncentives\": [\n",
      "      109752\n",
      "    ],\n",
      "    \"restrictedToLender\": false\n",
      "  },\n",
      "  \"107783\": {\n",
      "    \"incentiveId\": 107783,\n",
      "    \"name\": \"2021 Volvo Loyalty Customer Cash\",\n",
      "    \"description\": \"The Loyalty Bonus is available on select Volvo models and can vary whether vehicle is leased or purchased. Customer eligibility requirements must be met for the Loyalty Bonus offer. Residency restrictions apply. Please see dealer for details. Individuals who currently own/lease any model year Volvo or Saab vehicle OR have owned/leased within the last 6 months are eligible. Offer open only to legal U.S. residents who have a valid U.S. driver's license. Offer is not transferable and cannot be combined with Conquest offer. Vehicles purchased outside of the program dates will not be eligible for this offer. Offer cannot be used towards the payment of sales tax. This offer is subject to federal, state and local taxes. Offer cannot be applied to lease or purchase of any other model year Volvo or vehicles purchased as used and/or Overseas Delivery (VCIC) program sales.\",\n",
      "    \"lender\": \"Volvo USA\",\n",
      "    \"condition\": \"Loyalty\",\n",
      "    \"cash\": 2500,\n",
      "    \"standard\": false,\n",
      "    \"startDate\": \"11/3/20\",\n",
      "    \"endDate\": \"11/30/20\",\n",
      "    \"financeType\": null,\n",
      "    \"termRanges\": null,\n",
      "    \"excludedIncentives\": [\n",
      "      107712,\n",
      "      107784\n",
      "    ],\n",
      "    \"restrictedToLender\": false\n",
      "  },\n",
      "  \"107784\": {\n",
      "    \"incentiveId\": 107784,\n",
      "    \"name\": \"2021 Volvo Loyalty Customer Cash\",\n",
      "    \"description\": \"The Loyalty Bonus is available on select Volvo models and can vary whether vehicle is leased or purchased. Customer eligibility requirements must be met for the Loyalty Bonus offer. Residency restrictions apply. Please see dealer for details. Individuals who currently own/lease any model year Volvo or Saab vehicle OR have owned/leased within the last 6 months are eligible. Offer open only to legal U.S. residents who have a valid U.S. driver's license. Offer is not transferable and cannot be combined with Conquest offer. Vehicles purchased outside of the program dates will not be eligible for this offer. Offer cannot be used towards the payment of sales tax. This offer is subject to federal, state and local taxes. Offer cannot be applied to lease or purchase of any other model year Volvo or vehicles purchased as used and/or Overseas Delivery (VCIC) program sales.\",\n",
      "    \"lender\": \"Volvo Car Financial Services\",\n",
      "    \"condition\": \"Loyalty\",\n",
      "    \"cash\": null,\n",
      "    \"standard\": false,\n",
      "    \"startDate\": \"11/3/20\",\n",
      "    \"endDate\": \"11/30/20\",\n",
      "    \"financeType\": \"lease\",\n",
      "    \"termRanges\": [\n",
      "      {\n",
      "        \"rate\": null,\n",
      "        \"cash\": 2000,\n",
      "        \"startTerm\": 12,\n",
      "        \"endTerm\": 48\n",
      "      }\n",
      "    ],\n",
      "    \"excludedIncentives\": [\n",
      "      107783\n",
      "    ],\n",
      "    \"restrictedToLender\": true\n",
      "  },\n",
      "  \"108356\": {\n",
      "    \"incentiveId\": 108356,\n",
      "    \"name\": \"2021 Volvo USAA, First Responder, Active Duty and Active Reserve US Military Personnel, Healthcare Worker, Teacher, and PenFed Credit Union Customer Cash\",\n",
      "    \"description\": \"The USAA, First Responder, Active Duty and Active Reserve US Military Personnel, Healthcare Worker, Teacher, and PenFed Credit Union Bonus is available on select Volvo models and can vary whether vehicle is leased or purchased. Customer eligibility requirements must be met for the USAA Military Bonus, First Responder, Active Duty and Active Reserve Military Personnel, Healthcare Worker, Teacher, and PenFed Credit Union offer. Residency restrictions apply. Please see dealer for details. Offer open only to legal U.S. residents who have a valid U.S. driver's license and are Active Duty or Active Reserve US Military Personnel, or are active members of an eligible First Responder Association. Offer is not transferable. Vehicles purchased outside of the program dates will not be eligible for this offer. Offer cannot be used towards the payment of sales tax. This offer is subject to federal, state and local taxes. Offer cannot be applied to lease or purchase of any other model year Volvo or vehicles purchased as used and/or Overseas Delivery (VCIC) program sales.\",\n",
      "    \"lender\": \"Volvo USA\",\n",
      "    \"condition\": \"Affiliate\",\n",
      "    \"cash\": 1000,\n",
      "    \"standard\": false,\n",
      "    \"startDate\": \"11/3/20\",\n",
      "    \"endDate\": \"11/30/20\",\n",
      "    \"financeType\": null,\n",
      "    \"termRanges\": null,\n",
      "    \"excludedIncentives\": [\n",
      "      107712,\n",
      "      108357\n",
      "    ],\n",
      "    \"restrictedToLender\": false\n",
      "  },\n",
      "  \"108357\": {\n",
      "    \"incentiveId\": 108357,\n",
      "    \"name\": \"2021 Volvo USAA, First Responder, Active Duty and Active Reserve US Military Personnel, Healthcare Worker, Teacher, and PenFed Credit Union Customer Cash\",\n",
      "    \"description\": \"The USAA, First Responder, Active Duty and Active Reserve US Military Personnel, Healthcare Worker, Teacher, and PenFed Credit Union Bonus is available on select Volvo models and can vary whether vehicle is leased or purchased. Customer eligibility requirements must be met for the USAA Military Bonus, First Responder, Active Duty and Active Reserve Military Personnel, Healthcare Worker, Teacher, and PenFed Credit Union offer. Residency restrictions apply. Please see dealer for details. Offer open only to legal U.S. residents who have a valid U.S. driver's license and are Active Duty or Active Reserve US Military Personnel, or are active members of an eligible First Responder Association. Offer is not transferable. Vehicles purchased outside of the program dates will not be eligible for this offer. Offer cannot be used towards the payment of sales tax. This offer is subject to federal, state and local taxes. Offer cannot be applied to lease or purchase of any other model year Volvo or vehicles purchased as used and/or Overseas Delivery (VCIC) program sales.\",\n",
      "    \"lender\": \"Volvo Car Financial Services\",\n",
      "    \"condition\": \"Affiliate\",\n",
      "    \"cash\": null,\n",
      "    \"standard\": false,\n",
      "    \"startDate\": \"11/3/20\",\n",
      "    \"endDate\": \"11/30/20\",\n",
      "    \"financeType\": \"lease\",\n",
      "    \"termRanges\": [\n",
      "      {\n",
      "        \"rate\": null,\n",
      "        \"cash\": 500,\n",
      "        \"startTerm\": 12,\n",
      "        \"endTerm\": 48\n",
      "      }\n",
      "    ],\n",
      "    \"excludedIncentives\": [\n",
      "      108356\n",
      "    ],\n",
      "    \"restrictedToLender\": true\n",
      "  },\n",
      "  \"109032\": {\n",
      "    \"incentiveId\": 109032,\n",
      "    \"name\": \"2021 Volvo S60 Lease Bonus Dealer Cash\",\n",
      "    \"description\": \"Dealer Contribution cashback may not be available in all areas, to all consumers, or to all dealers.  Dealers who participate may not be able to contribute the entire cashback amount. See dealer for details.\",\n",
      "    \"lender\": \"Volvo Car Financial Services\",\n",
      "    \"condition\": null,\n",
      "    \"cash\": null,\n",
      "    \"standard\": true,\n",
      "    \"startDate\": \"11/3/20\",\n",
      "    \"endDate\": \"11/30/20\",\n",
      "    \"financeType\": \"lease\",\n",
      "    \"termRanges\": [\n",
      "      {\n",
      "        \"rate\": null,\n",
      "        \"cash\": 3500,\n",
      "        \"startTerm\": 24,\n",
      "        \"endTerm\": 48\n",
      "      }\n",
      "    ],\n",
      "    \"excludedIncentives\": null,\n",
      "    \"restrictedToLender\": true\n",
      "  },\n",
      "  \"109752\": {\n",
      "    \"incentiveId\": 109752,\n",
      "    \"name\": \"2021 Volvo Special Financing\",\n",
      "    \"description\": \"0% APR applies to new all new 2020 and 2021 Volvo models and is not combinable with Volvo Allowance or Purchase Cash. Offer available to qualified customers that meet Volvo Car Financial Services (VCFS) credit standards at authorized Volvo Retailers.  Not everyone will qualify for credit approval or advertised APR.  Down payment may vary. Advertised financing does not include taxes, title, registration, and license fees.  All offers are subject to vehicle availability. See your participating Volvo Retailer for details.\",\n",
      "    \"lender\": \"Volvo Car Financial Services\",\n",
      "    \"condition\": null,\n",
      "    \"cash\": null,\n",
      "    \"standard\": true,\n",
      "    \"startDate\": \"11/3/20\",\n",
      "    \"endDate\": \"11/30/20\",\n",
      "    \"financeType\": \"loan\",\n",
      "    \"termRanges\": [\n",
      "      {\n",
      "        \"rate\": 0,\n",
      "        \"cash\": 0,\n",
      "        \"startTerm\": 24,\n",
      "        \"endTerm\": 60\n",
      "      }\n",
      "    ],\n",
      "    \"excludedIncentives\": [\n",
      "      107773\n",
      "    ],\n",
      "    \"restrictedToLender\": true\n",
      "  }\n",
      "}\n"
     ]
    }
   ],
   "source": [
    "let incentives = {\"107712\":{\"incentiveId\":107712,\"name\":\"2021 Volvo S60 T5 Inscription Special Lease\",\"description\":\"\",\"lender\":\"Volvo Car Financial Services\",\"condition\":null,\"cash\":null,\"standard\":true,\"startDate\":\"11/3/20\",\"endDate\":\"11/30/20\",\"financeType\":\"lease\",\"termRanges\":[{\"rate\":0.792,\"cash\":0.0,\"startTerm\":24,\"endTerm\":24},{\"rate\":0.792,\"cash\":0.0,\"startTerm\":30,\"endTerm\":30},{\"rate\":0.792,\"cash\":0.0,\"startTerm\":36,\"endTerm\":36},{\"rate\":0.792,\"cash\":0.0,\"startTerm\":39,\"endTerm\":39},{\"rate\":4.152,\"cash\":0.0,\"startTerm\":48,\"endTerm\":48}],\"excludedIncentives\":[107783,108356],\"restrictedToLender\":true},\"107773\":{\"incentiveId\":107773,\"name\":\"2021 Volvo S60 Retail Bonus Dealer Cash\",\"description\":\"Dealer Contribution cashback may not be available in all areas, to all consumers, or to all dealers.  Dealers who participate may not be able to contribute the entire cashback amount. Available on retail purchases only. Not available on lease deals. See dealer for details.\",\"lender\":\"Volvo USA\",\"condition\":null,\"cash\":1500.0,\"standard\":true,\"startDate\":\"11/3/20\",\"endDate\":\"11/30/20\",\"financeType\":\"loan\",\"termRanges\":null,\"excludedIncentives\":[109752],\"restrictedToLender\":false},\"107783\":{\"incentiveId\":107783,\"name\":\"2021 Volvo Loyalty Customer Cash\",\"description\":\"The Loyalty Bonus is available on select Volvo models and can vary whether vehicle is leased or purchased. Customer eligibility requirements must be met for the Loyalty Bonus offer. Residency restrictions apply. Please see dealer for details. Individuals who currently own/lease any model year Volvo or Saab vehicle OR have owned/leased within the last 6 months are eligible. Offer open only to legal U.S. residents who have a valid U.S. driver's license. Offer is not transferable and cannot be combined with Conquest offer. Vehicles purchased outside of the program dates will not be eligible for this offer. Offer cannot be used towards the payment of sales tax. This offer is subject to federal, state and local taxes. Offer cannot be applied to lease or purchase of any other model year Volvo or vehicles purchased as used and/or Overseas Delivery (VCIC) program sales.\",\"lender\":\"Volvo USA\",\"condition\":\"Loyalty\",\"cash\":2500.0,\"standard\":false,\"startDate\":\"11/3/20\",\"endDate\":\"11/30/20\",\"financeType\":null,\"termRanges\":null,\"excludedIncentives\":[107712,107784],\"restrictedToLender\":false},\"107784\":{\"incentiveId\":107784,\"name\":\"2021 Volvo Loyalty Customer Cash\",\"description\":\"The Loyalty Bonus is available on select Volvo models and can vary whether vehicle is leased or purchased. Customer eligibility requirements must be met for the Loyalty Bonus offer. Residency restrictions apply. Please see dealer for details. Individuals who currently own/lease any model year Volvo or Saab vehicle OR have owned/leased within the last 6 months are eligible. Offer open only to legal U.S. residents who have a valid U.S. driver's license. Offer is not transferable and cannot be combined with Conquest offer. Vehicles purchased outside of the program dates will not be eligible for this offer. Offer cannot be used towards the payment of sales tax. This offer is subject to federal, state and local taxes. Offer cannot be applied to lease or purchase of any other model year Volvo or vehicles purchased as used and/or Overseas Delivery (VCIC) program sales.\",\"lender\":\"Volvo Car Financial Services\",\"condition\":\"Loyalty\",\"cash\":null,\"standard\":false,\"startDate\":\"11/3/20\",\"endDate\":\"11/30/20\",\"financeType\":\"lease\",\"termRanges\":[{\"rate\":null,\"cash\":2000.0,\"startTerm\":12,\"endTerm\":48}],\"excludedIncentives\":[107783],\"restrictedToLender\":true},\"108356\":{\"incentiveId\":108356,\"name\":\"2021 Volvo USAA, First Responder, Active Duty and Active Reserve US Military Personnel, Healthcare Worker, Teacher, and PenFed Credit Union Customer Cash\",\"description\":\"The USAA, First Responder, Active Duty and Active Reserve US Military Personnel, Healthcare Worker, Teacher, and PenFed Credit Union Bonus is available on select Volvo models and can vary whether vehicle is leased or purchased. Customer eligibility requirements must be met for the USAA Military Bonus, First Responder, Active Duty and Active Reserve Military Personnel, Healthcare Worker, Teacher, and PenFed Credit Union offer. Residency restrictions apply. Please see dealer for details. Offer open only to legal U.S. residents who have a valid U.S. driver's license and are Active Duty or Active Reserve US Military Personnel, or are active members of an eligible First Responder Association. Offer is not transferable. Vehicles purchased outside of the program dates will not be eligible for this offer. Offer cannot be used towards the payment of sales tax. This offer is subject to federal, state and local taxes. Offer cannot be applied to lease or purchase of any other model year Volvo or vehicles purchased as used and/or Overseas Delivery (VCIC) program sales.\",\"lender\":\"Volvo USA\",\"condition\":\"Affiliate\",\"cash\":1000.0,\"standard\":false,\"startDate\":\"11/3/20\",\"endDate\":\"11/30/20\",\"financeType\":null,\"termRanges\":null,\"excludedIncentives\":[107712,108357],\"restrictedToLender\":false},\"108357\":{\"incentiveId\":108357,\"name\":\"2021 Volvo USAA, First Responder, Active Duty and Active Reserve US Military Personnel, Healthcare Worker, Teacher, and PenFed Credit Union Customer Cash\",\"description\":\"The USAA, First Responder, Active Duty and Active Reserve US Military Personnel, Healthcare Worker, Teacher, and PenFed Credit Union Bonus is available on select Volvo models and can vary whether vehicle is leased or purchased. Customer eligibility requirements must be met for the USAA Military Bonus, First Responder, Active Duty and Active Reserve Military Personnel, Healthcare Worker, Teacher, and PenFed Credit Union offer. Residency restrictions apply. Please see dealer for details. Offer open only to legal U.S. residents who have a valid U.S. driver's license and are Active Duty or Active Reserve US Military Personnel, or are active members of an eligible First Responder Association. Offer is not transferable. Vehicles purchased outside of the program dates will not be eligible for this offer. Offer cannot be used towards the payment of sales tax. This offer is subject to federal, state and local taxes. Offer cannot be applied to lease or purchase of any other model year Volvo or vehicles purchased as used and/or Overseas Delivery (VCIC) program sales.\",\"lender\":\"Volvo Car Financial Services\",\"condition\":\"Affiliate\",\"cash\":null,\"standard\":false,\"startDate\":\"11/3/20\",\"endDate\":\"11/30/20\",\"financeType\":\"lease\",\"termRanges\":[{\"rate\":null,\"cash\":500.0,\"startTerm\":12,\"endTerm\":48}],\"excludedIncentives\":[108356],\"restrictedToLender\":true},\"109032\":{\"incentiveId\":109032,\"name\":\"2021 Volvo S60 Lease Bonus Dealer Cash\",\"description\":\"Dealer Contribution cashback may not be available in all areas, to all consumers, or to all dealers.  Dealers who participate may not be able to contribute the entire cashback amount. See dealer for details.\",\"lender\":\"Volvo Car Financial Services\",\"condition\":null,\"cash\":null,\"standard\":true,\"startDate\":\"11/3/20\",\"endDate\":\"11/30/20\",\"financeType\":\"lease\",\"termRanges\":[{\"rate\":null,\"cash\":3500.0,\"startTerm\":24,\"endTerm\":48}],\"excludedIncentives\":null,\"restrictedToLender\":true},\"109752\":{\"incentiveId\":109752,\"name\":\"2021 Volvo Special Financing\",\"description\":\"0% APR applies to new all new 2020 and 2021 Volvo models and is not combinable with Volvo Allowance or Purchase Cash. Offer available to qualified customers that meet Volvo Car Financial Services (VCFS) credit standards at authorized Volvo Retailers.  Not everyone will qualify for credit approval or advertised APR.  Down payment may vary. Advertised financing does not include taxes, title, registration, and license fees.  All offers are subject to vehicle availability. See your participating Volvo Retailer for details.\",\"lender\":\"Volvo Car Financial Services\",\"condition\":null,\"cash\":null,\"standard\":true,\"startDate\":\"11/3/20\",\"endDate\":\"11/30/20\",\"financeType\":\"loan\",\"termRanges\":[{\"rate\":0.0,\"cash\":0.0,\"startTerm\":24,\"endTerm\":60}],\"excludedIncentives\":[107773],\"restrictedToLender\":true}}\n",
    "JSON.stringify(incentives, undefined, 2)"
   ]
  },
  {
   "cell_type": "markdown",
   "metadata": {
    "slideshow": {
     "slide_type": "slide"
    }
   },
   "source": [
    "We know a few things about the interest rate incentive:\n",
    "- Everyone gets it, so the `standard` field is true.\n",
    "- It's for leasing, so the `financeType` type field will be `\"lease\"`.\n",
    "- The interest rates are specified by the `termRanges` field, so that must be non-`null`.\n",
    "- Inside the `termRanges` field we'll need to look for an entry that describes the term length we are interested in (`36` months).\n",
    "- Finally, if there is one, we need to make sure that the `rate` field is non-`null`.\n",
    "\n",
    "Whew!\n",
    "\n",
    "Here's an example of a `termRanges` entry that we'd like to find:\n",
    "``` javascript\n",
    "          {\n",
    "            \"rate\": 0.792,\n",
    "            \"cash\": 0,\n",
    "            \"startTerm\": 36,\n",
    "            \"endTerm\": 36\n",
    "          },\n",
    "```\n",
    "\n",
    "We essentially have a list of incentives.  So let's map each incentive to the specified interest value if it's the one we want, and `null` otherwise.  Then we'll search through the list for the first `non-`null` value."
   ]
  },
  {
   "cell_type": "code",
   "execution_count": 38,
   "metadata": {
    "slideshow": {
     "slide_type": "slide"
    }
   },
   "outputs": [
    {
     "name": "stdout",
     "output_type": "stream",
     "text": [
      "0.792\n"
     ]
    }
   ],
   "source": [
    "let apr =\n",
    "    Object.values(incentives)\n",
    "    .map (i => {\n",
    "    // Is this a standard incentive?\n",
    "    if (!i['standard']) { return null }\n",
    "    // Is it for leasing?\n",
    "    if (i['financeType'] != \"lease\") { return null }\n",
    "    // Is there a termRanges field that is non-null?\n",
    "    if (i['termRanges'] == null) { return null }\n",
    "    // Iterate through the termRanges for 36 months\n",
    "    return i['termRanges'].map (tr => {\n",
    "        if (tr['startTerm'] <= 36 && tr['endTerm'] >= 36) {\n",
    "            return tr['rate']\n",
    "        } else {\n",
    "            return null\n",
    "        }\n",
    "    })\n",
    "    // Filter out all the null and undefined values\n",
    "    .filter (x => x)\n",
    "    // Pop the last value\n",
    "    .pop()\n",
    "})\n",
    "// Filter out all the null and undefined values\n",
    ".filter (x => x)\n",
    "// And take the last value\n",
    ".pop ()\n",
    "\n",
    "// Print out the apr\n",
    "apr"
   ]
  },
  {
   "cell_type": "markdown",
   "metadata": {
    "slideshow": {
     "slide_type": "fragment"
    }
   },
   "source": [
    "Notice how the list operations can be chained together using `.`"
   ]
  }
 ],
 "metadata": {
  "celltoolbar": "Slideshow",
  "kernelspec": {
   "display_name": "TypeScript",
   "language": "typescript",
   "name": "tslab"
  },
  "language_info": {
   "codemirror_mode": {
    "mode": "typescript",
    "name": "javascript",
    "typescript": true
   },
   "file_extension": ".ts",
   "mimetype": "text/typescript",
   "name": "typescript",
   "version": "3.7.2"
  },
  "rise": {
   "enable_chalkboard": true,
   "scroll": true
  }
 },
 "nbformat": 4,
 "nbformat_minor": 4
}
