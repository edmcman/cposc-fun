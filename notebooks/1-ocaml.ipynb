{
 "cells": [
  {
   "cell_type": "markdown",
   "metadata": {
    "slideshow": {
     "slide_type": "slide"
    }
   },
   "source": [
    "## The basics\n",
    "\n",
    "OCaml is very similar to other languages where basic types are concerned."
   ]
  },
  {
   "cell_type": "code",
   "execution_count": 1,
   "metadata": {
    "slideshow": {
     "slide_type": "fragment"
    }
   },
   "outputs": [
    {
     "data": {
      "text/plain": [
       "- : int = 1\n"
      ]
     },
     "execution_count": 1,
     "metadata": {},
     "output_type": "execute_result"
    }
   ],
   "source": [
    "1"
   ]
  },
  {
   "cell_type": "markdown",
   "metadata": {
    "slideshow": {
     "slide_type": "fragment"
    }
   },
   "source": [
    "`: T = V` means that the expression we evaluated to value `V` and has type `T`.   OCaml uses _type inference_ to automatically figure out the type of an expression.  `int` is the type of an integer."
   ]
  },
  {
   "cell_type": "code",
   "execution_count": 2,
   "metadata": {
    "slideshow": {
     "slide_type": "slide"
    }
   },
   "outputs": [
    {
     "data": {
      "text/plain": [
       "- : string = \"Hello world!\"\n"
      ]
     },
     "execution_count": 2,
     "metadata": {},
     "output_type": "execute_result"
    }
   ],
   "source": [
    "\"Hello world!\""
   ]
  },
  {
   "cell_type": "code",
   "execution_count": 3,
   "metadata": {
    "slideshow": {
     "slide_type": "fragment"
    }
   },
   "outputs": [
    {
     "data": {
      "text/plain": [
       "- : int = 3\n"
      ]
     },
     "execution_count": 3,
     "metadata": {},
     "output_type": "execute_result"
    }
   ],
   "source": [
    "1 + 2"
   ]
  },
  {
   "cell_type": "markdown",
   "metadata": {
    "slideshow": {
     "slide_type": "slide"
    }
   },
   "source": [
    "OCaml also has a strong type system that will let you know when you do something stupid."
   ]
  },
  {
   "cell_type": "code",
   "execution_count": 4,
   "metadata": {
    "slideshow": {
     "slide_type": "fragment"
    }
   },
   "outputs": [
    {
     "ename": "error",
     "evalue": "compile_error",
     "output_type": "error",
     "traceback": [
      "\u001b[32mFile \"[4]\", line 1, characters 4-12:\n\u001b[31mError: This expression has type string but an expression was expected of type\n         int\n\u001b[36m   1: \u001b[30m1 + \u001b[4m\"String\"\u001b[0m\n"
     ]
    }
   ],
   "source": [
    "1 + \"String\""
   ]
  },
  {
   "cell_type": "markdown",
   "metadata": {
    "slideshow": {
     "slide_type": "slide"
    }
   },
   "source": [
    "Let's look at a more complex expression such as a list."
   ]
  },
  {
   "cell_type": "code",
   "execution_count": 5,
   "metadata": {
    "slideshow": {
     "slide_type": "-"
    }
   },
   "outputs": [
    {
     "data": {
      "text/plain": [
       "- : int list = [1; 2; 3]\n"
      ]
     },
     "execution_count": 5,
     "metadata": {},
     "output_type": "execute_result"
    }
   ],
   "source": [
    "[1; 2; 3]"
   ]
  },
  {
   "cell_type": "markdown",
   "metadata": {
    "slideshow": {
     "slide_type": "fragment"
    }
   },
   "source": [
    "Our list has type `int list`.  You can think of this as a `list` of `int`s."
   ]
  },
  {
   "cell_type": "markdown",
   "metadata": {
    "slideshow": {
     "slide_type": "slide"
    }
   },
   "source": [
    "What type does the empty list `[]` have?"
   ]
  },
  {
   "cell_type": "code",
   "execution_count": 6,
   "metadata": {
    "slideshow": {
     "slide_type": "fragment"
    }
   },
   "outputs": [
    {
     "data": {
      "text/plain": [
       "- : 'a list = []\n"
      ]
     },
     "execution_count": 6,
     "metadata": {},
     "output_type": "execute_result"
    }
   ],
   "source": [
    "[]"
   ]
  },
  {
   "cell_type": "markdown",
   "metadata": {
    "slideshow": {
     "slide_type": "fragment"
    }
   },
   "source": [
    "`'a` is a _type_ variable.  This indicates that `[]` is a list of elements of some type that is yet to be determined."
   ]
  },
  {
   "cell_type": "markdown",
   "metadata": {
    "slideshow": {
     "slide_type": "slide"
    }
   },
   "source": [
    "## Functions\n",
    "\n",
    "In functional languages, functions are expressions."
   ]
  },
  {
   "cell_type": "code",
   "execution_count": 7,
   "metadata": {
    "slideshow": {
     "slide_type": "fragment"
    }
   },
   "outputs": [
    {
     "data": {
      "text/plain": [
       "- : 'a -> int = <fun>\n"
      ]
     },
     "execution_count": 7,
     "metadata": {},
     "output_type": "execute_result"
    }
   ],
   "source": [
    "fun arg -> 42"
   ]
  },
  {
   "cell_type": "markdown",
   "metadata": {
    "slideshow": {
     "slide_type": "fragment"
    }
   },
   "source": [
    "Let's unpack this.  We got back a value of type `'a -> int`, which is a function that takes an undetermined value as an argument, and returns an integer."
   ]
  },
  {
   "cell_type": "markdown",
   "metadata": {
    "slideshow": {
     "slide_type": "fragment"
    }
   },
   "source": [
    "Our function does not have a name; it's anonymous.  Many languages call these _lambda functions_."
   ]
  },
  {
   "cell_type": "markdown",
   "metadata": {
    "slideshow": {
     "slide_type": "slide"
    }
   },
   "source": [
    "Let's give our function a name!"
   ]
  },
  {
   "cell_type": "code",
   "execution_count": 8,
   "metadata": {
    "slideshow": {
     "slide_type": "fragment"
    }
   },
   "outputs": [
    {
     "data": {
      "text/plain": [
       "val myfun : 'a -> int = <fun>\n"
      ]
     },
     "execution_count": 8,
     "metadata": {},
     "output_type": "execute_result"
    }
   ],
   "source": [
    "let myfun = fun arg -> 42"
   ]
  },
  {
   "cell_type": "code",
   "execution_count": 9,
   "metadata": {
    "slideshow": {
     "slide_type": "fragment"
    }
   },
   "outputs": [
    {
     "data": {
      "text/plain": [
       "- : 'a -> int = <fun>\n"
      ]
     },
     "execution_count": 9,
     "metadata": {},
     "output_type": "execute_result"
    }
   ],
   "source": [
    "myfun"
   ]
  },
  {
   "cell_type": "markdown",
   "metadata": {
    "slideshow": {
     "slide_type": "fragment"
    }
   },
   "source": [
    "Our function is now named `myfun`."
   ]
  },
  {
   "cell_type": "code",
   "execution_count": 10,
   "metadata": {
    "slideshow": {
     "slide_type": "subslide"
    }
   },
   "outputs": [
    {
     "data": {
      "text/plain": [
       "- : int = 42\n"
      ]
     },
     "execution_count": 10,
     "metadata": {},
     "output_type": "execute_result"
    }
   ],
   "source": [
    "myfun 0"
   ]
  },
  {
   "cell_type": "code",
   "execution_count": 11,
   "metadata": {
    "slideshow": {
     "slide_type": "fragment"
    }
   },
   "outputs": [
    {
     "data": {
      "text/plain": [
       "- : int = 42\n"
      ]
     },
     "execution_count": 11,
     "metadata": {},
     "output_type": "execute_result"
    }
   ],
   "source": [
    "myfun 0.0"
   ]
  },
  {
   "cell_type": "code",
   "execution_count": 12,
   "metadata": {
    "slideshow": {
     "slide_type": "fragment"
    }
   },
   "outputs": [
    {
     "data": {
      "text/plain": [
       "- : int = 42\n"
      ]
     },
     "execution_count": 12,
     "metadata": {},
     "output_type": "execute_result"
    }
   ],
   "source": [
    "myfun [\"Wow this is crazy\"]"
   ]
  },
  {
   "cell_type": "markdown",
   "metadata": {
    "slideshow": {
     "slide_type": "subslide"
    }
   },
   "source": [
    "We can also use a slightly shorter syntax when we are defining functions."
   ]
  },
  {
   "cell_type": "code",
   "execution_count": 13,
   "metadata": {
    "slideshow": {
     "slide_type": "fragment"
    }
   },
   "outputs": [
    {
     "data": {
      "text/plain": [
       "val myfun : 'a -> int = <fun>\n"
      ]
     },
     "execution_count": 13,
     "metadata": {},
     "output_type": "execute_result"
    }
   ],
   "source": [
    "let myfun arg = 42"
   ]
  },
  {
   "cell_type": "code",
   "execution_count": 14,
   "metadata": {
    "slideshow": {
     "slide_type": "slide"
    }
   },
   "outputs": [
    {
     "data": {
      "text/plain": [
       "val succ : int -> int = <fun>\n"
      ]
     },
     "execution_count": 14,
     "metadata": {},
     "output_type": "execute_result"
    }
   ],
   "source": [
    "let succ n = n + 1"
   ]
  },
  {
   "cell_type": "markdown",
   "metadata": {
    "slideshow": {
     "slide_type": "fragment"
    }
   },
   "source": [
    "Look at that.  Now we have a function that takes an integer argument and returns an integer.  OCaml's type inference figured out the argument and return types are `int` because they are being added.  (Floats have their own addition operator `+.`.)"
   ]
  },
  {
   "cell_type": "code",
   "execution_count": 15,
   "metadata": {
    "slideshow": {
     "slide_type": "fragment"
    }
   },
   "outputs": [
    {
     "data": {
      "text/plain": [
       "- : int = 43\n"
      ]
     },
     "execution_count": 15,
     "metadata": {},
     "output_type": "execute_result"
    }
   ],
   "source": [
    "succ 42"
   ]
  },
  {
   "cell_type": "code",
   "execution_count": 16,
   "metadata": {
    "slideshow": {
     "slide_type": "subslide"
    }
   },
   "outputs": [
    {
     "data": {
      "text/plain": [
       "val id : 'a -> 'a = <fun>\n"
      ]
     },
     "execution_count": 16,
     "metadata": {},
     "output_type": "execute_result"
    }
   ],
   "source": [
    "let id a = a"
   ]
  },
  {
   "cell_type": "markdown",
   "metadata": {
    "slideshow": {
     "slide_type": "fragment"
    }
   },
   "source": [
    "We just defined a function that takes an undetermined type and returns the same type!"
   ]
  },
  {
   "cell_type": "code",
   "execution_count": 17,
   "metadata": {
    "slideshow": {
     "slide_type": "fragment"
    }
   },
   "outputs": [
    {
     "data": {
      "text/plain": [
       "- : int = 0\n"
      ]
     },
     "execution_count": 17,
     "metadata": {},
     "output_type": "execute_result"
    }
   ],
   "source": [
    "id 0"
   ]
  },
  {
   "cell_type": "code",
   "execution_count": 18,
   "metadata": {
    "slideshow": {
     "slide_type": "fragment"
    }
   },
   "outputs": [
    {
     "data": {
      "text/plain": [
       "- : string = \"You won't return this value\"\n"
      ]
     },
     "execution_count": 18,
     "metadata": {},
     "output_type": "execute_result"
    }
   ],
   "source": [
    "id \"You won't return this value\""
   ]
  },
  {
   "cell_type": "code",
   "execution_count": 19,
   "metadata": {
    "slideshow": {
     "slide_type": "fragment"
    }
   },
   "outputs": [
    {
     "data": {
      "text/plain": [
       "- : ('_weak1 -> int) list = [<fun>]\n"
      ]
     },
     "execution_count": 19,
     "metadata": {},
     "output_type": "execute_result"
    }
   ],
   "source": [
    "id [myfun]"
   ]
  },
  {
   "cell_type": "markdown",
   "metadata": {
    "slideshow": {
     "slide_type": "slide"
    }
   },
   "source": [
    "Let's define a function that takes two arguments."
   ]
  },
  {
   "cell_type": "code",
   "execution_count": 20,
   "metadata": {
    "slideshow": {
     "slide_type": "-"
    }
   },
   "outputs": [
    {
     "data": {
      "text/plain": [
       "val add : int -> int -> int = <fun>\n"
      ]
     },
     "execution_count": 20,
     "metadata": {},
     "output_type": "execute_result"
    }
   ],
   "source": [
    "let add a b = a + b"
   ]
  },
  {
   "cell_type": "markdown",
   "metadata": {
    "slideshow": {
     "slide_type": "fragment"
    }
   },
   "source": [
    "- We got back a crazy type `int -> int -> int`\n",
    "- The trick is to add parentheses like  `int -> (int -> int)`\n",
    "- If you provide an `int`, you get back a new function that takes an `int`\n",
    "- This idea is called _currying_"
   ]
  },
  {
   "cell_type": "markdown",
   "metadata": {
    "slideshow": {
     "slide_type": "subslide"
    }
   },
   "source": [
    "Just like we would expect, we can pass both arguments at once."
   ]
  },
  {
   "cell_type": "code",
   "execution_count": 21,
   "metadata": {
    "slideshow": {
     "slide_type": "fragment"
    }
   },
   "outputs": [
    {
     "data": {
      "text/plain": [
       "- : int = 42\n"
      ]
     },
     "execution_count": 21,
     "metadata": {},
     "output_type": "execute_result"
    }
   ],
   "source": [
    "add 40 2"
   ]
  },
  {
   "cell_type": "markdown",
   "metadata": {
    "slideshow": {
     "slide_type": "subslide"
    }
   },
   "source": [
    "But because of currying, we can pass a single argument and we'll still get back a function!  This is called _partial application_."
   ]
  },
  {
   "cell_type": "code",
   "execution_count": 22,
   "metadata": {
    "slideshow": {
     "slide_type": "fragment"
    }
   },
   "outputs": [
    {
     "data": {
      "text/plain": [
       "- : int -> int = <fun>\n"
      ]
     },
     "execution_count": 22,
     "metadata": {},
     "output_type": "execute_result"
    }
   ],
   "source": [
    "add 40"
   ]
  },
  {
   "cell_type": "markdown",
   "metadata": {
    "slideshow": {
     "slide_type": "fragment"
    }
   },
   "source": [
    "And we can save it and call it as usual."
   ]
  },
  {
   "cell_type": "code",
   "execution_count": 23,
   "metadata": {
    "slideshow": {
     "slide_type": "fragment"
    }
   },
   "outputs": [
    {
     "data": {
      "text/plain": [
       "val add1 : int -> int = <fun>\n"
      ]
     },
     "execution_count": 23,
     "metadata": {},
     "output_type": "execute_result"
    },
    {
     "data": {
      "text/plain": [
       "- : int = 42\n"
      ]
     },
     "execution_count": 23,
     "metadata": {},
     "output_type": "execute_result"
    }
   ],
   "source": [
    "let add1 = add 1;;\n",
    "add1 41"
   ]
  },
  {
   "cell_type": "markdown",
   "metadata": {
    "slideshow": {
     "slide_type": "slide"
    }
   },
   "source": [
    "## Fun with Lists\n",
    "\n",
    "### map\n",
    "\n",
    "Having first-class functions allows us to write a lot of interesting list processing functions.  Let's start with `List.map`.  OCaml organizes code into modules.  `List.map` simply means the `map` symbol in the `List` module.  In this case, `map` is a function.\n",
    "\n",
    "`map f [e0; e1; ...; en]` is defined to be `[f e0; f e1; ...; f en]`.  In other words, `map` applies the function `f` to every element of the list to create a new list.  Notice that we provide a function `f` as an argument to `map`; this is possible because functions are first class citizens.  This makes `map` a _higher order function_."
   ]
  },
  {
   "cell_type": "markdown",
   "metadata": {
    "slideshow": {
     "slide_type": "slide"
    }
   },
   "source": [
    "Let's try a few examples!"
   ]
  },
  {
   "cell_type": "code",
   "execution_count": 24,
   "metadata": {
    "slideshow": {
     "slide_type": "fragment"
    }
   },
   "outputs": [
    {
     "data": {
      "text/plain": [
       "val add42 : int -> int = <fun>\n"
      ]
     },
     "execution_count": 24,
     "metadata": {},
     "output_type": "execute_result"
    },
    {
     "data": {
      "text/plain": [
       "- : int list = [43; 44; 45]\n"
      ]
     },
     "execution_count": 24,
     "metadata": {},
     "output_type": "execute_result"
    }
   ],
   "source": [
    "let add42 x = x + 42;;\n",
    "List.map add42 [1; 2; 3]"
   ]
  },
  {
   "cell_type": "markdown",
   "metadata": {
    "slideshow": {
     "slide_type": "fragment"
    }
   },
   "source": [
    "Lambda functions can be used to succinctly describe `f` without naming it."
   ]
  },
  {
   "cell_type": "code",
   "execution_count": 25,
   "metadata": {
    "slideshow": {
     "slide_type": "-"
    }
   },
   "outputs": [
    {
     "data": {
      "text/plain": [
       "- : int list = [43; 44; 45]\n"
      ]
     },
     "execution_count": 25,
     "metadata": {},
     "output_type": "execute_result"
    }
   ],
   "source": [
    "List.map (fun x -> x + 42) [1; 2; 3]"
   ]
  },
  {
   "cell_type": "code",
   "execution_count": 26,
   "metadata": {
    "slideshow": {
     "slide_type": "subslide"
    }
   },
   "outputs": [
    {
     "data": {
      "text/plain": [
       "val square : int -> int = <fun>\n"
      ]
     },
     "execution_count": 26,
     "metadata": {},
     "output_type": "execute_result"
    },
    {
     "data": {
      "text/plain": [
       "- : int list = [0; 1; 4; 9; 16]\n"
      ]
     },
     "execution_count": 26,
     "metadata": {},
     "output_type": "execute_result"
    }
   ],
   "source": [
    "let square x = x*x;;\n",
    "List.map square [0; 1; 2; 3; 4]"
   ]
  },
  {
   "cell_type": "code",
   "execution_count": 27,
   "metadata": {
    "slideshow": {
     "slide_type": "fragment"
    }
   },
   "outputs": [
    {
     "data": {
      "text/plain": [
       "val l1 : int list = [0; 1; 2; 3; 4]\n"
      ]
     },
     "execution_count": 27,
     "metadata": {},
     "output_type": "execute_result"
    },
    {
     "data": {
      "text/plain": [
       "val l2 : int list = [0; 1; 4; 9; 16]\n"
      ]
     },
     "execution_count": 27,
     "metadata": {},
     "output_type": "execute_result"
    },
    {
     "data": {
      "text/plain": [
       "val l3 : int list = [0; 1; 16; 81; 256]\n"
      ]
     },
     "execution_count": 27,
     "metadata": {},
     "output_type": "execute_result"
    }
   ],
   "source": [
    "let l1 = [0; 1; 2; 3; 4];;\n",
    "let l2 = List.map square l1;;\n",
    "let l3 = List.map square l2;;"
   ]
  },
  {
   "cell_type": "markdown",
   "metadata": {
    "slideshow": {
     "slide_type": "slide"
    }
   },
   "source": [
    "### Filter\n",
    "\n",
    "Another very useful function is `List.filter`.  `filter f l` runs `f` on each element of `l`, and returns a list consisting solely of the elements of `l` that `f` returned true on.  Unlike with `map`, `f` must return a boolean when used with `filter`."
   ]
  },
  {
   "cell_type": "code",
   "execution_count": 28,
   "metadata": {
    "slideshow": {
     "slide_type": "skip"
    }
   },
   "outputs": [
    {
     "data": {
      "text/plain": [
       "- : ('a -> bool) -> 'a list -> 'a list = <fun>\n"
      ]
     },
     "execution_count": 28,
     "metadata": {},
     "output_type": "execute_result"
    }
   ],
   "source": [
    "List.filter"
   ]
  },
  {
   "cell_type": "markdown",
   "metadata": {
    "slideshow": {
     "slide_type": "skip"
    }
   },
   "source": [
    "In this case, `f` has type `'a -> bool` because it's deciding yes (true) or no (false) for each element of the list."
   ]
  },
  {
   "cell_type": "markdown",
   "metadata": {
    "slideshow": {
     "slide_type": "slide"
    }
   },
   "source": [
    "Let's try a few examples."
   ]
  },
  {
   "cell_type": "code",
   "execution_count": 29,
   "metadata": {
    "slideshow": {
     "slide_type": "fragment"
    }
   },
   "outputs": [
    {
     "data": {
      "text/plain": [
       "val is_positive : int -> bool = <fun>\n"
      ]
     },
     "execution_count": 29,
     "metadata": {},
     "output_type": "execute_result"
    },
    {
     "data": {
      "text/plain": [
       "- : int list = [1; 2]\n"
      ]
     },
     "execution_count": 29,
     "metadata": {},
     "output_type": "execute_result"
    }
   ],
   "source": [
    "let is_positive x = x > 0;;\n",
    "List.filter is_positive [-2; -1; 0; 1; 2]"
   ]
  },
  {
   "cell_type": "code",
   "execution_count": 30,
   "metadata": {
    "slideshow": {
     "slide_type": "fragment"
    }
   },
   "outputs": [
    {
     "data": {
      "text/plain": [
       "val is_even : int -> bool = <fun>\n"
      ]
     },
     "execution_count": 30,
     "metadata": {},
     "output_type": "execute_result"
    },
    {
     "data": {
      "text/plain": [
       "- : int list = [2; 4; 6; 8; 10]\n"
      ]
     },
     "execution_count": 30,
     "metadata": {},
     "output_type": "execute_result"
    }
   ],
   "source": [
    "let is_even x = x mod 2 == 0;;\n",
    "List.filter is_even [1; 2; 3; 4; 5; 6; 7; 8; 9; 10]"
   ]
  },
  {
   "cell_type": "markdown",
   "metadata": {
    "slideshow": {
     "slide_type": "slide"
    }
   },
   "source": [
    "## Flattening\n",
    "\n",
    "Sometimes we need to map one object to multiple other cases.  One way to do this is to map each element to a list.  "
   ]
  },
  {
   "cell_type": "code",
   "execution_count": 31,
   "metadata": {
    "slideshow": {
     "slide_type": "fragment"
    }
   },
   "outputs": [
    {
     "data": {
      "text/plain": [
       "- : int list list = [[1; 2; 3]; [2; 3; 4]; [3; 4; 5]]\n"
      ]
     },
     "execution_count": 31,
     "metadata": {},
     "output_type": "execute_result"
    }
   ],
   "source": [
    "List.map (fun x -> [x; x+1; x+2]) [1;2;3]"
   ]
  },
  {
   "cell_type": "markdown",
   "metadata": {},
   "source": [
    "We got back a `list` of `list`s of `int`s.  But how can we turn this into a `list` of `int`s?  We can use `List.flatten`.  `flatten [[e11; e12]; ...; [en1; en2]]` returns `[e11; e12; ...; en1; en2]`."
   ]
  },
  {
   "cell_type": "code",
   "execution_count": 32,
   "metadata": {
    "slideshow": {
     "slide_type": "fragment"
    }
   },
   "outputs": [
    {
     "data": {
      "text/plain": [
       "val x : int list list = [[1; 2; 3]; [2; 3; 4]; [3; 4; 5]]\n"
      ]
     },
     "execution_count": 32,
     "metadata": {},
     "output_type": "execute_result"
    },
    {
     "data": {
      "text/plain": [
       "- : int list = [1; 2; 3; 2; 3; 4; 3; 4; 5]\n"
      ]
     },
     "execution_count": 32,
     "metadata": {},
     "output_type": "execute_result"
    }
   ],
   "source": [
    "let x = List.map (fun x -> [x; x+1; x+2]) [1;2;3];;\n",
    "List.flatten x"
   ]
  },
  {
   "cell_type": "markdown",
   "metadata": {
    "slideshow": {
     "slide_type": "slide"
    }
   },
   "source": [
    "### Folding\n",
    "\n",
    "Our favorite functional list operation is called _folding_.  The intuition of folding is that you take a list of values and combine them into a single value.  Another way to think about folding is that it _accumulates_ the information in a list to a single value.\n",
    "\n",
    "For example, we usually think of addition as a binary operation.  But we can use `fold` to apply addition to a list.  For example, if we folded addition over `[1;2;3]` starting with `0`, we would intuitively get `((0+1)+2)+3`, the sum of all elements in the list.  The sum we're keeping track of is called the _accumulator_.  It starts with `0`, becomes `1`, then `3`, and then `6`."
   ]
  },
  {
   "cell_type": "code",
   "execution_count": 33,
   "metadata": {
    "slideshow": {
     "slide_type": "slide"
    }
   },
   "outputs": [
    {
     "data": {
      "text/plain": [
       "val add : int -> int -> int = <fun>\n"
      ]
     },
     "execution_count": 33,
     "metadata": {},
     "output_type": "execute_result"
    },
    {
     "data": {
      "text/plain": [
       "val sum : int list -> int = <fun>\n"
      ]
     },
     "execution_count": 33,
     "metadata": {},
     "output_type": "execute_result"
    },
    {
     "data": {
      "text/plain": [
       "- : int = 10\n"
      ]
     },
     "execution_count": 33,
     "metadata": {},
     "output_type": "execute_result"
    }
   ],
   "source": [
    "let add accum n = accum + n;;\n",
    "let sum l = List.fold_left add 0 l;;\n",
    "sum [1;2;3;4]"
   ]
  },
  {
   "cell_type": "markdown",
   "metadata": {
    "slideshow": {
     "slide_type": "fragment"
    }
   },
   "source": [
    "Here we're using `fold` to compute the sum of a list of numbers just like we talked about.\n",
    "\n",
    "`(((0+1)+2)+3)+4 = 10`\n",
    "\n",
    "Notice that the first argument of `add` is `accum`, the accumulated value so far."
   ]
  },
  {
   "cell_type": "code",
   "execution_count": 34,
   "metadata": {
    "slideshow": {
     "slide_type": "subslide"
    }
   },
   "outputs": [
    {
     "data": {
      "text/plain": [
       "val mult : int -> int -> int = <fun>\n"
      ]
     },
     "execution_count": 34,
     "metadata": {},
     "output_type": "execute_result"
    },
    {
     "data": {
      "text/plain": [
       "val product : int list -> int = <fun>\n"
      ]
     },
     "execution_count": 34,
     "metadata": {},
     "output_type": "execute_result"
    },
    {
     "data": {
      "text/plain": [
       "- : int = 24\n"
      ]
     },
     "execution_count": 34,
     "metadata": {},
     "output_type": "execute_result"
    }
   ],
   "source": [
    "let mult accum n = accum * n;;\n",
    "let product l = List.fold_left mult 1 l;;\n",
    "product [1;2;3;4]"
   ]
  },
  {
   "cell_type": "markdown",
   "metadata": {
    "slideshow": {
     "slide_type": "fragment"
    }
   },
   "source": [
    "Here we're folding over multiplication to compute the product of a list.  Note that we have to use `1` as our initial accumulator, since `0*n = 0`!\n",
    "\n",
    "`(((1*1)*2)*3)*4 = 24`"
   ]
  },
  {
   "cell_type": "markdown",
   "metadata": {
    "slideshow": {
     "slide_type": "slide"
    }
   },
   "source": [
    "Ok, let's try to write a function that computes the length of a list."
   ]
  },
  {
   "cell_type": "code",
   "execution_count": 35,
   "metadata": {},
   "outputs": [
    {
     "data": {
      "text/plain": [
       "val increase_count : int -> 'a -> int = <fun>\n"
      ]
     },
     "execution_count": 35,
     "metadata": {},
     "output_type": "execute_result"
    },
    {
     "data": {
      "text/plain": [
       "val list_length : 'a list -> int = <fun>\n"
      ]
     },
     "execution_count": 35,
     "metadata": {},
     "output_type": "execute_result"
    }
   ],
   "source": [
    "let increase_count accum element = accum + 1;;\n",
    "let list_length list = List.fold_left increase_count 0 list"
   ]
  },
  {
   "cell_type": "markdown",
   "metadata": {
    "slideshow": {
     "slide_type": "fragment"
    }
   },
   "source": [
    "There's a lot going on here!  We're going to _accumulate_ the number of list elements we've seen so far.  Our `increase_count` function takes the old accumulator and the next list element and returns the new accumulator.  But since we're just counting the number of elements, we actually don't need to use the list element at all.  So we just take the old accumulator and add one.\n",
    "\n",
    "We also set `0` as the initial accumulator.  That's because we're counting, and before we have seen any list elements, the count is 0."
   ]
  },
  {
   "cell_type": "code",
   "execution_count": 36,
   "metadata": {
    "slideshow": {
     "slide_type": "slide"
    }
   },
   "outputs": [
    {
     "data": {
      "text/plain": [
       "- : int = 3\n"
      ]
     },
     "execution_count": 36,
     "metadata": {},
     "output_type": "execute_result"
    }
   ],
   "source": [
    "list_length [1; 2; 3]"
   ]
  },
  {
   "cell_type": "code",
   "execution_count": 37,
   "metadata": {
    "slideshow": {
     "slide_type": "-"
    }
   },
   "outputs": [
    {
     "data": {
      "text/plain": [
       "- : int = 0\n"
      ]
     },
     "execution_count": 37,
     "metadata": {},
     "output_type": "execute_result"
    }
   ],
   "source": [
    "list_length []"
   ]
  },
  {
   "cell_type": "markdown",
   "metadata": {
    "slideshow": {
     "slide_type": "fragment"
    }
   },
   "source": [
    "Folding over an empty list `[]` simply returns the initial accumulator value."
   ]
  },
  {
   "cell_type": "markdown",
   "metadata": {
    "slideshow": {
     "slide_type": "slide"
    }
   },
   "source": [
    "Ok, let's do one more trick.  Let's use `fold` to reverse a list.  Our accumulator will actually hold the reversed list.  We'll start with an empty list.  Each time we visit a list element, we'll put it on the front of the accumulated list.  So the first element will be at the end of the list, and the last element will be at the front.\n",
    "\n",
    "`a :: b` means to put `a` at the front of list `b`.  For example, `1::[2;3] = [1;2;3]`."
   ]
  },
  {
   "cell_type": "code",
   "execution_count": 38,
   "metadata": {
    "slideshow": {
     "slide_type": "fragment"
    }
   },
   "outputs": [
    {
     "data": {
      "text/plain": [
       "val add_to_front_of_list : 'a list -> 'a -> 'a list = <fun>\n"
      ]
     },
     "execution_count": 38,
     "metadata": {},
     "output_type": "execute_result"
    },
    {
     "data": {
      "text/plain": [
       "val reverselist : 'a list -> 'a list = <fun>\n"
      ]
     },
     "execution_count": 38,
     "metadata": {},
     "output_type": "execute_result"
    }
   ],
   "source": [
    "let add_to_front_of_list accum element = element :: accum;;\n",
    "let reverselist l = List.fold_left add_to_front_of_list [] l"
   ]
  },
  {
   "cell_type": "code",
   "execution_count": 39,
   "metadata": {
    "slideshow": {
     "slide_type": "fragment"
    }
   },
   "outputs": [
    {
     "data": {
      "text/plain": [
       "- : int list = [3; 2; 1]\n"
      ]
     },
     "execution_count": 39,
     "metadata": {},
     "output_type": "execute_result"
    }
   ],
   "source": [
    "reverselist [1; 2; 3]"
   ]
  },
  {
   "cell_type": "markdown",
   "metadata": {},
   "source": [
    "Our function is actually computing `3::(2::(1::[])) = [3;2;1]`."
   ]
  },
  {
   "cell_type": "markdown",
   "metadata": {
    "slideshow": {
     "slide_type": "slide"
    }
   },
   "source": [
    "## A Fun Example\n",
    "\n",
    "From [Advent of Code](https://adventofcode.com/2020/day/1)\n",
    "\n",
    "Specifically, they need you to find the two entries that sum to 2020 and then multiply those two numbers together.\n",
    " \n",
    "For example, suppose your expense report contained the following:\n",
    " \n",
    " \n",
    "    1721\n",
    "    979\n",
    "    366\n",
    "    299\n",
    "    675\n",
    "    1456\n",
    "\n",
    "In this list, the two entries that sum to 2020 are 1721 and 299. Multiplying them together produces 1721 * 299 = 514579, so the correct answer is 514579."
   ]
  },
  {
   "cell_type": "markdown",
   "metadata": {
    "slideshow": {
     "slide_type": "subslide"
    }
   },
   "source": [
    "So how can we solve this functionally?\n",
    "\n",
    "1. Read the numbers into a list of strings: `[\"1\";\"2\";\"3\"]`\n",
    "2. Convert to a list of integers with `map`: `[1;2;3]`\n",
    "3. Build a list of all tuples using `map` and `flatten`: `[(1,1);(1,2);(1,3);(2,1);(2,2);(2,3);(3,1);(3,2);(3,3)]`\n",
    "4. Find a tuple that sums to 2020 using `find`: `(n1,n2)`\n",
    "5. Multiply it!"
   ]
  },
  {
   "cell_type": "markdown",
   "metadata": {
    "slideshow": {
     "slide_type": "fragment"
    }
   },
   "source": [
    "We won't have time to go through this example in detail, but we worked through it step by step in the notebook.  Check it out!\n",
    "\n",
    "Now we'll look at using some functional capabilities in javascript and python."
   ]
  },
  {
   "cell_type": "code",
   "execution_count": 40,
   "metadata": {
    "hide_input": true,
    "metadata": {
     "hide_input": true
    },
    "slideshow": {
     "slide_type": "subslide"
    }
   },
   "outputs": [
    {
     "data": {
      "text/plain": [
       "val input_string : string =\n",
       "  \"1865\\n1179\\n1328\\n1390\\n322\\n1999\\n1713\\n1808\\n1380\\n1727\\n1702\\n1304\\n1481\\n1334\\n1728\\n1953\\n1413\\n1753\\n1723\\n1379\\n1532\\n1918\\n1490\\n71\\n1388\\n1519\\n807\\n1427\\n1729\\n1952\\n970\\n1405\\n1500\\n1782\\n1899\\n1501\\n1720\\n1832\\n1706\\n1658\\n1333\\n486\\n1670\\n1674\\n1290\\n1893\\n1382\\n1761\\n1945\\n1607\\n1319\\n1508\\n1464\\n1733\\n1917\\n1483\\n1620\\n1677\\n1835\\n1810\\n1385\\n\"... (* string length 986; truncated *)\n"
      ]
     },
     "execution_count": 40,
     "metadata": {},
     "output_type": "execute_result"
    }
   ],
   "source": [
    "let input_string = {foo|1865\n",
    "1179\n",
    "1328\n",
    "1390\n",
    "322\n",
    "1999\n",
    "1713\n",
    "1808\n",
    "1380\n",
    "1727\n",
    "1702\n",
    "1304\n",
    "1481\n",
    "1334\n",
    "1728\n",
    "1953\n",
    "1413\n",
    "1753\n",
    "1723\n",
    "1379\n",
    "1532\n",
    "1918\n",
    "1490\n",
    "71\n",
    "1388\n",
    "1519\n",
    "807\n",
    "1427\n",
    "1729\n",
    "1952\n",
    "970\n",
    "1405\n",
    "1500\n",
    "1782\n",
    "1899\n",
    "1501\n",
    "1720\n",
    "1832\n",
    "1706\n",
    "1658\n",
    "1333\n",
    "486\n",
    "1670\n",
    "1674\n",
    "1290\n",
    "1893\n",
    "1382\n",
    "1761\n",
    "1945\n",
    "1607\n",
    "1319\n",
    "1508\n",
    "1464\n",
    "1733\n",
    "1917\n",
    "1483\n",
    "1620\n",
    "1677\n",
    "1835\n",
    "1810\n",
    "1385\n",
    "1840\n",
    "1705\n",
    "1994\n",
    "1695\n",
    "1599\n",
    "1681\n",
    "1566\n",
    "1153\n",
    "1672\n",
    "1373\n",
    "1679\n",
    "1714\n",
    "1283\n",
    "1950\n",
    "1197\n",
    "1696\n",
    "1936\n",
    "1218\n",
    "1910\n",
    "1786\n",
    "958\n",
    "1565\n",
    "1583\n",
    "1914\n",
    "1853\n",
    "1682\n",
    "1267\n",
    "1543\n",
    "1322\n",
    "1965\n",
    "1406\n",
    "860\n",
    "1754\n",
    "1867\n",
    "1393\n",
    "1404\n",
    "1191\n",
    "1861\n",
    "2007\n",
    "1613\n",
    "1938\n",
    "1340\n",
    "1227\n",
    "1628\n",
    "1826\n",
    "1638\n",
    "1970\n",
    "1993\n",
    "1748\n",
    "496\n",
    "1661\n",
    "1736\n",
    "1593\n",
    "1298\n",
    "1882\n",
    "1763\n",
    "1616\n",
    "1848\n",
    "92\n",
    "1338\n",
    "1707\n",
    "1587\n",
    "1996\n",
    "1708\n",
    "700\n",
    "1460\n",
    "1673\n",
    "1450\n",
    "1815\n",
    "1537\n",
    "1825\n",
    "1683\n",
    "1743\n",
    "1949\n",
    "1933\n",
    "1289\n",
    "1905\n",
    "1307\n",
    "1845\n",
    "1855\n",
    "1955\n",
    "1554\n",
    "1570\n",
    "1931\n",
    "1780\n",
    "1929\n",
    "1980\n",
    "1978\n",
    "1998\n",
    "1371\n",
    "1981\n",
    "1817\n",
    "1722\n",
    "1545\n",
    "1561\n",
    "1352\n",
    "1935\n",
    "1553\n",
    "1796\n",
    "1847\n",
    "1640\n",
    "1414\n",
    "1198\n",
    "1669\n",
    "1909\n",
    "1879\n",
    "1744\n",
    "1783\n",
    "1367\n",
    "1632\n",
    "1990\n",
    "1937\n",
    "1919\n",
    "1431\n",
    "2002\n",
    "1603\n",
    "1948\n",
    "1317\n",
    "1282\n",
    "1349\n",
    "1839\n",
    "1575\n",
    "1730\n",
    "1849\n",
    "1959\n",
    "1971\n",
    "2009\n",
    "1641\n",
    "1402\n",
    "1924\n",
    "1757\n",
    "1605\n",
    "1693\n",
    "1762\n",
    "283\n",
    "1525\n",
    "1964\n",
    "1715\n",
    "1602|foo}"
   ]
  },
  {
   "cell_type": "markdown",
   "metadata": {},
   "source": [
    "This is our starting problem input."
   ]
  },
  {
   "cell_type": "markdown",
   "metadata": {
    "slideshow": {
     "slide_type": "slide"
    }
   },
   "source": [
    "### 1: Read the numbers into a list of strings\n"
   ]
  },
  {
   "cell_type": "code",
   "execution_count": 41,
   "metadata": {},
   "outputs": [
    {
     "data": {
      "text/plain": [
       "val l : string list =\n",
       "  [\"1865\"; \"1179\"; \"1328\"; \"1390\"; \"322\"; \"1999\"; \"1713\"; \"1808\"; \"1380\";\n",
       "   \"1727\"; \"1702\"; \"1304\"; \"1481\"; \"1334\"; \"1728\"; \"1953\"; \"1413\"; \"1753\";\n",
       "   \"1723\"; \"1379\"; \"1532\"; \"1918\"; \"1490\"; \"71\"; \"1388\"; \"1519\"; \"807\";\n",
       "   \"1427\"; \"1729\"; \"1952\"; \"970\"; \"1405\"; \"1500\"; \"1782\"; \"1899\"; \"1501\";\n",
       "   \"1720\"; \"1832\"; \"1706\"; \"1658\"; \"1333\"; \"486\"; \"1670\"; \"1674\"; \"1290\";\n",
       "   \"1893\"; \"1382\"; \"1761\"; \"1945\"; \"1607\"; \"1319\"; \"1508\"; \"1464\"; \"1733\";\n",
       "   \"1917\"; \"1483\"; \"1620\"; \"1677\"; \"1835\"; \"1810\"; \"1385\"; \"1840\"; \"1705\";\n",
       "   \"1994\"; \"1695\"; \"1599\"; \"1681\"; \"1566\"; \"1153\"; \"1672\"; \"1373\"; \"1679\";\n",
       "   \"1714\"; \"1283\"; \"1950\"; \"1197\"; \"1696\"; \"1936\"; \"1218\"; \"1910\"; \"1786\";\n",
       "   \"958\"; \"1565\"; \"1583\"; \"1914\"; \"1853\"; \"1682\"; \"1267\"; \"1543\"; \"1322\";\n",
       "   \"1965\"; \"1406\"; \"860\"; \"1754\"; \"1867\"; \"1393\"; \"1404\"; \"1191\"; \"1861\";\n",
       "   \"2007\"; \"1613\"; \"1938\"; \"1340\"; \"1227\"; \"1628\"; \"1826\"; \"1638\"; \"1970\";\n",
       "   \"1993\"; \"1748\"; \"496\"; \"1661\"; \"1736\"; \"1593\"; \"1298\"; \"1882\"; \"1763\";\n",
       "   \"1616\"; \"1848\"; \"92\"; \"1338\"; \"1707\"; \"1587\"; \"1996\"; \"1708\"; \"700\";\n",
       "   \"1460\"; \"1673\"; \"1450\"; \"1815\"; \"1537\"; \"1825\"; \"1683\"; \"1743\"; \"1949\";\n",
       "   \"1933\"; \"1289\"; \"1905\"; \"1307\"; \"1845\"; \"1855\"; \"1955\"; \"1554\"; \"1570\";\n",
       "   \"1931\"; \"1780\"; \"1929\"; \"1980\"; \"1978\"; \"1998\"; \"1371\"; \"1981\"; \"1817\";\n",
       "   \"1722\"; \"1545\"; \"1561\"; \"1352\"; \"1935\"; \"1553\"; \"1796\"; \"1847\"; \"1640\";\n",
       "   \"1414\"; \"1198\"; \"1669\"; \"1909\"; \"1879\"; \"1744\"; \"1783\"; \"1367\"; \"1632\";\n",
       "   \"1990\"; \"1937\"; \"1919\"; \"1431\"; \"2002\"; \"1603\"; \"1948\"; \"1317\"; \"1282\";\n",
       "   \"1349\"; \"1839\"; \"1575\"; \"1730\"; \"1849\"; \"1959\"; \"1971\"; \"2009\"; \"1641\";\n",
       "   \"1402\"; \"1924\"; \"1757\"; \"1605\"; \"1693\"; \"1762\"; \"283\"; \"1525\"; \"1964\";\n",
       "   \"1715\"; \"1602\"]\n"
      ]
     },
     "execution_count": 41,
     "metadata": {},
     "output_type": "execute_result"
    }
   ],
   "source": [
    "let l = Str.split (Str.regexp \"\\n\") input_string"
   ]
  },
  {
   "cell_type": "markdown",
   "metadata": {
    "slideshow": {
     "slide_type": "subslide"
    }
   },
   "source": [
    "### 2: Convert to a list of integers with `map`\n"
   ]
  },
  {
   "cell_type": "code",
   "execution_count": 42,
   "metadata": {},
   "outputs": [
    {
     "data": {
      "text/plain": [
       "val l2 : int list =\n",
       "  [1865; 1179; 1328; 1390; 322; 1999; 1713; 1808; 1380; 1727; 1702; 1304;\n",
       "   1481; 1334; 1728; 1953; 1413; 1753; 1723; 1379; 1532; 1918; 1490; 71;\n",
       "   1388; 1519; 807; 1427; 1729; 1952; 970; 1405; 1500; 1782; 1899; 1501;\n",
       "   1720; 1832; 1706; 1658; 1333; 486; 1670; 1674; 1290; 1893; 1382; 1761;\n",
       "   1945; 1607; 1319; 1508; 1464; 1733; 1917; 1483; 1620; 1677; 1835; 1810;\n",
       "   1385; 1840; 1705; 1994; 1695; 1599; 1681; 1566; 1153; 1672; 1373; 1679;\n",
       "   1714; 1283; 1950; 1197; 1696; 1936; 1218; 1910; 1786; 958; 1565; 1583;\n",
       "   1914; 1853; 1682; 1267; 1543; 1322; 1965; 1406; 860; 1754; 1867; 1393;\n",
       "   1404; 1191; 1861; 2007; 1613; 1938; 1340; 1227; 1628; 1826; 1638; 1970;\n",
       "   1993; 1748; 496; 1661; 1736; 1593; 1298; 1882; 1763; 1616; 1848; 92; 1338;\n",
       "   1707; 1587; 1996; 1708; 700; 1460; 1673; 1450; 1815; 1537; 1825; 1683;\n",
       "   1743; 1949; 1933; 1289; 1905; 1307; 1845; 1855; 1955; 1554; 1570; 1931;\n",
       "   1780; 1929; 1980; 1978; 1998; 1371; 1981; 1817; 1722; 1545; 1561; 1352;\n",
       "   1935; 1553; 1796; 1847; 1640; 1414; 1198; 1669; 1909; 1879; 1744; 1783;\n",
       "   1367; 1632; 1990; 1937; 1919; 1431; 2002; 1603; 1948; 1317; 1282; 1349;\n",
       "   1839; 1575; 1730; 1849; 1959; 1971; 2009; 1641; 1402; 1924; 1757; 1605;\n",
       "   1693; 1762; 283; 1525; 1964; 1715; 1602]\n"
      ]
     },
     "execution_count": 42,
     "metadata": {},
     "output_type": "execute_result"
    }
   ],
   "source": [
    "let l2 = List.map int_of_string l"
   ]
  },
  {
   "cell_type": "markdown",
   "metadata": {
    "slideshow": {
     "slide_type": "subslide"
    }
   },
   "source": [
    "### 3: Turn the list into a list of all tuples with `map` and `flatten`\n",
    "\n",
    "This is the only tricky part.  We'll first write a function `make_tuples n1` that takes a number `n1` and makes a tuple for each input where the first tuple is `n1` and the the second is the input."
   ]
  },
  {
   "cell_type": "code",
   "execution_count": 43,
   "metadata": {},
   "outputs": [
    {
     "data": {
      "text/plain": [
       "val make_tuples : 'a -> ('a * int) list = <fun>\n"
      ]
     },
     "execution_count": 43,
     "metadata": {},
     "output_type": "execute_result"
    }
   ],
   "source": [
    "let make_tuples n1 = List.map (fun n2 -> (n1, n2)) l2;;"
   ]
  },
  {
   "cell_type": "markdown",
   "metadata": {
    "slideshow": {
     "slide_type": "subslide"
    }
   },
   "source": [
    "And now we map over `l` using our new function!"
   ]
  },
  {
   "cell_type": "code",
   "execution_count": 44,
   "metadata": {},
   "outputs": [
    {
     "data": {
      "text/plain": [
       "val l3 : (int * int) list list =\n",
       "  [[(1865, 1865); (1865, 1179); (1865, 1328); (1865, 1390); (1865, 322);\n",
       "    (1865, 1999); (1865, 1713); (1865, 1808); (1865, 1380); (1865, 1727);\n",
       "    (1865, 1702); (1865, 1304); (1865, 1481); (1865, 1334); (1865, 1728);\n",
       "    (1865, 1953); (1865, 1413); (1865, 1753); (1865, 1723); (1865, 1379);\n",
       "    (1865, 1532); (1865, 1918); (1865, 1490); (1865, 71); (1865, 1388);\n",
       "    (1865, 1519); (1865, 807); (1865, 1427); (1865, 1729); (1865, 1952);\n",
       "    (1865, 970); (1865, 1405); (1865, 1500); (1865, 1782); (1865, 1899);\n",
       "    (1865, 1501); (1865, 1720); (1865, 1832); (1865, 1706); (1865, 1658);\n",
       "    (1865, 1333); (1865, 486); (1865, 1670); (1865, 1674); (1865, 1290);\n",
       "    (1865, 1893); (1865, 1382); (1865, 1761); (1865, 1945); (1865, 1607);\n",
       "    (1865, 1319); (1865, 1508); (1865, 1464); (1865, 1733); (1865, 1917);\n",
       "    (1865, 1483); (1865, 1620); (1865, 1677); (1865, 1835); (1865, 1810);\n",
       "    (1865, 1385); (1865, 1840); (1865, 1705); (1865, 1994); (1865, 1695);\n",
       "    (1865, 1599); (1865, 1681); (1865, 1566); (1865, 1153); (1865, 1672);\n",
       "    (1865, 1373); (1865, 1679); (1865, 1714); (1865, 1283); (1865, 1950);\n",
       "    (1865, 1197); (1865, 1696); (1865, 1936); (1865, 1218); (1865, 1910);\n",
       "    (1865, 1786); (1865, 958); (1865, 1565); (1865, 1583); (1865, 1914);\n",
       "    (1865, 1853); (1865, 1682); (1865, 1267); (1865, 1543); (1865, 1322);\n",
       "    (1865, 1965); (1865, 1406); (1865, 860); (1865, 1754); (1865, 1867);\n",
       "    (1865, 1393); (1865, 1404); (1865, 1191); (1865, 1861); (...); ...];\n",
       "   ...]\n"
      ]
     },
     "execution_count": 44,
     "metadata": {},
     "output_type": "execute_result"
    }
   ],
   "source": [
    "let l3 = List.map make_tuples l2"
   ]
  },
  {
   "cell_type": "markdown",
   "metadata": {
    "slideshow": {
     "slide_type": "subslide"
    }
   },
   "source": [
    "There is a small problem.  We have a `int list list` and want a `int list`.  `flatten` to the rescue!"
   ]
  },
  {
   "cell_type": "code",
   "execution_count": 45,
   "metadata": {},
   "outputs": [
    {
     "data": {
      "text/plain": [
       "val l4 : (int * int) list =\n",
       "  [(1865, 1865); (1865, 1179); (1865, 1328); (1865, 1390); (1865, 322);\n",
       "   (1865, 1999); (1865, 1713); (1865, 1808); (1865, 1380); (1865, 1727);\n",
       "   (1865, 1702); (1865, 1304); (1865, 1481); (1865, 1334); (1865, 1728);\n",
       "   (1865, 1953); (1865, 1413); (1865, 1753); (1865, 1723); (1865, 1379);\n",
       "   (1865, 1532); (1865, 1918); (1865, 1490); (1865, 71); (1865, 1388);\n",
       "   (1865, 1519); (1865, 807); (1865, 1427); (1865, 1729); (1865, 1952);\n",
       "   (1865, 970); (1865, 1405); (1865, 1500); (1865, 1782); (1865, 1899);\n",
       "   (1865, 1501); (1865, 1720); (1865, 1832); (1865, 1706); (1865, 1658);\n",
       "   (1865, 1333); (1865, 486); (1865, 1670); (1865, 1674); (1865, 1290);\n",
       "   (1865, 1893); (1865, 1382); (1865, 1761); (1865, 1945); (1865, 1607);\n",
       "   (1865, 1319); (1865, 1508); (1865, 1464); (1865, 1733); (1865, 1917);\n",
       "   (1865, 1483); (1865, 1620); (1865, 1677); (1865, 1835); (1865, 1810);\n",
       "   (1865, 1385); (1865, 1840); (1865, 1705); (1865, 1994); (1865, 1695);\n",
       "   (1865, 1599); (1865, 1681); (1865, 1566); (1865, 1153); (1865, 1672);\n",
       "   (1865, 1373); (1865, 1679); (1865, 1714); (1865, 1283); (1865, 1950);\n",
       "   (1865, 1197); (1865, 1696); (1865, 1936); (1865, 1218); (1865, 1910);\n",
       "   (1865, 1786); (1865, 958); (1865, 1565); (1865, 1583); (1865, 1914);\n",
       "   (1865, 1853); (1865, 1682); (1865, 1267); (1865, 1543); (1865, 1322);\n",
       "   (1865, 1965); (1865, 1406); (1865, 860); (1865, 1754); (1865, 1867);\n",
       "   (1865, 1393); (1865, 1404); (1865, 1191); (1865, 1861); (1865, ...); ...]\n"
      ]
     },
     "execution_count": 45,
     "metadata": {},
     "output_type": "execute_result"
    }
   ],
   "source": [
    "let l4 = List.flatten l3"
   ]
  },
  {
   "cell_type": "markdown",
   "metadata": {
    "slideshow": {
     "slide_type": "subslide"
    }
   },
   "source": [
    "### 4: Find a tuple that sums to 2020\n",
    "\n",
    "Instead of `List.filter` we'll use `List.find` here.  Instead of returning a list, `find f l` returns the first element in `l` that `f` returns `true` on."
   ]
  },
  {
   "cell_type": "code",
   "execution_count": 46,
   "metadata": {
    "slideshow": {
     "slide_type": "fragment"
    }
   },
   "outputs": [
    {
     "data": {
      "text/plain": [
       "val tuple_check : int * int -> bool = <fun>\n"
      ]
     },
     "execution_count": 46,
     "metadata": {},
     "output_type": "execute_result"
    }
   ],
   "source": [
    "let tuple_check (a,b) = a+b == 2020"
   ]
  },
  {
   "cell_type": "code",
   "execution_count": 47,
   "metadata": {
    "slideshow": {
     "slide_type": "fragment"
    }
   },
   "outputs": [
    {
     "data": {
      "text/plain": [
       "val special_tuple : int * int = (71, 1949)\n"
      ]
     },
     "execution_count": 47,
     "metadata": {},
     "output_type": "execute_result"
    }
   ],
   "source": [
    "let special_tuple = List.find tuple_check l4"
   ]
  },
  {
   "cell_type": "markdown",
   "metadata": {
    "slideshow": {
     "slide_type": "subslide"
    }
   },
   "source": [
    "### 5: Multiply the tuple\n",
    "\n",
    "`fst` and `snd` are used to access the components of the tuple."
   ]
  },
  {
   "cell_type": "code",
   "execution_count": 48,
   "metadata": {
    "slideshow": {
     "slide_type": "-"
    }
   },
   "outputs": [
    {
     "data": {
      "text/plain": [
       "- : int = 138379\n"
      ]
     },
     "execution_count": 48,
     "metadata": {},
     "output_type": "execute_result"
    }
   ],
   "source": [
    "(fst special_tuple) * (snd special_tuple)"
   ]
  },
  {
   "cell_type": "markdown",
   "metadata": {},
   "source": [
    "# Advanced material\n",
    "\n",
    "Below here is some advanced material you might be interested in, but we don't have time to cover."
   ]
  },
  {
   "cell_type": "markdown",
   "metadata": {
    "slideshow": {
     "slide_type": "slide"
    }
   },
   "source": [
    "## Variables\n",
    "\n",
    "There are two types in variables in OCaml:\n",
    "- Immutable\n",
    "- Mutable\n",
    "\n",
    "Functional programming is based on immutable variables, so we'll explore the let binding, which allows us to bind an expression to a variable.\n"
   ]
  },
  {
   "cell_type": "code",
   "execution_count": 49,
   "metadata": {
    "slideshow": {
     "slide_type": "subslide"
    }
   },
   "outputs": [
    {
     "data": {
      "text/plain": [
       "- : string = \"Hello World!\"\n"
      ]
     },
     "execution_count": 49,
     "metadata": {},
     "output_type": "execute_result"
    }
   ],
   "source": [
    "\"Hello\" ^ \" World!\""
   ]
  },
  {
   "cell_type": "code",
   "execution_count": 50,
   "metadata": {
    "slideshow": {
     "slide_type": "fragment"
    }
   },
   "outputs": [
    {
     "data": {
      "text/plain": [
       "- : string = \"Hello world!\"\n"
      ]
     },
     "execution_count": 50,
     "metadata": {},
     "output_type": "execute_result"
    }
   ],
   "source": [
    "let s1 = \"Hello\" in\n",
    "let s2 = \" world!\" in\n",
    "s1 ^ s2"
   ]
  },
  {
   "cell_type": "code",
   "execution_count": 51,
   "metadata": {
    "slideshow": {
     "slide_type": "fragment"
    }
   },
   "outputs": [
    {
     "data": {
      "text/plain": [
       "- : float = 45000.\n"
      ]
     },
     "execution_count": 51,
     "metadata": {},
     "output_type": "execute_result"
    }
   ],
   "source": [
    "let discount = 0.1 in\n",
    "let remain = 1.0 -. discount in\n",
    "let msrp = 50000.0 in\n",
    "msrp *. remain"
   ]
  },
  {
   "cell_type": "markdown",
   "metadata": {
    "slideshow": {
     "slide_type": "slide"
    }
   },
   "source": [
    "Variables in procedural languages are generally _mutable_, which means that they can hold different values at different times.  In OCaml, this is accomplished with a `ref` (reference) type.  As with `list` types, `ref` types take an argument that comes first, and describes the type of the object being stored.  For example, `int ref` is the type of a mutable integer, and `int list ref` is the type of a mutable list of integers.\n",
    "\n",
    "`ref e` creates a reference initially to `e`.  To give a name to a reference variable, we usually use a let.  To access the current value of `v` we use `!v`."
   ]
  },
  {
   "cell_type": "code",
   "execution_count": 52,
   "metadata": {
    "slideshow": {
     "slide_type": "subslide"
    }
   },
   "outputs": [
    {
     "data": {
      "text/plain": [
       "- : int = 42\n"
      ]
     },
     "execution_count": 52,
     "metadata": {},
     "output_type": "execute_result"
    }
   ],
   "source": [
    "let v = ref 42 in\n",
    "!v"
   ]
  },
  {
   "cell_type": "code",
   "execution_count": 53,
   "metadata": {
    "slideshow": {
     "slide_type": "fragment"
    }
   },
   "outputs": [
    {
     "data": {
      "text/plain": [
       "- : int = 43\n"
      ]
     },
     "execution_count": 53,
     "metadata": {},
     "output_type": "execute_result"
    }
   ],
   "source": [
    "let v = ref 42 in\n",
    "v := 43;\n",
    "!v"
   ]
  }
 ],
 "metadata": {
  "celltoolbar": "Slideshow",
  "kernelspec": {
   "display_name": "OCaml 4.06",
   "language": "OCaml",
   "name": "ocaml-jupyter"
  },
  "language_info": {
   "codemirror_mode": "text/x-ocaml",
   "file_extension": ".ml",
   "mimetype": "text/x-ocaml",
   "name": "OCaml",
   "nbconverter_exporter": null,
   "pygments_lexer": "OCaml",
   "version": "4.06.1"
  },
  "rise": {
   "enable_chalkboard": true,
   "scroll": true
  }
 },
 "nbformat": 4,
 "nbformat_minor": 2
}
